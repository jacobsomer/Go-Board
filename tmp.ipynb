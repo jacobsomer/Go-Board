{
 "cells": [
  {
   "cell_type": "markdown",
   "metadata": {},
   "source": [
    "# Project 0: Getting Started\n",
    "This part will help you familiarize with working on a handout Jupyter notebook. Read through the markdown instructions and fill in your implementation for every function.\n"
   ]
  },
  {
   "cell_type": "markdown",
   "metadata": {},
   "source": [
    "### Question 1: Computing the greatest common divisor\n",
    "Implement the function `gcd(a,b)` that takes as input two non-negative integers `a` and `b` (where `a + b > 0`) and outputs their greatest common divisor."
   ]
  },
  {
   "cell_type": "code",
   "execution_count": null,
   "metadata": {},
   "outputs": [],
   "source": [
    "def gcd(a, b):\n",
    "    \"\"\"\n",
    "    Compute the greatest common divisor of two integers.\n",
    "    \n",
    "    args:\n",
    "        a (int) : the first integer\n",
    "        b (int) : the second integer\n",
    "    \n",
    "    return:\n",
    "        int : the greatest common divisor of a and b.\n",
    "    \"\"\"\n",
    "    while b:\n",
    "        a, b = b, a % b\n",
    "    return a\n"
   ]
  },
  {
   "cell_type": "markdown",
   "metadata": {},
   "source": [
    "Now run the following cell to check your implementation. Note that this cell has a tag `excluded_from_script` so that it is not run by the autograder; do not remove the tag.\n"
   ]
  },
  {
   "cell_type": "code",
   "execution_count": null,
   "metadata": {
    "tags": [
     "excluded_from_script"
    ]
   },
   "outputs": [],
   "source": [
    "def test_gcd():\n",
    "    data = [\n",
    "        [5,10,5],\n",
    "        [27,36,9],\n",
    "        [0,100,100],\n",
    "        [4,15,1],\n",
    "    ]\n",
    "    for line in data:\n",
    "        a, b, c = line[0], line[1], line[2]\n",
    "        assert gcd(a, b) == c\n",
    "    print(\"All tests passed!\")\n",
    "\n",
    "test_gcd()"
   ]
  },
  {
   "cell_type": "markdown",
   "metadata": {},
   "source": [
    "## Do not modify or edit the code below\n"
   ]
  },
  {
   "cell_type": "code",
   "execution_count": null,
   "metadata": {},
   "outputs": [],
   "source": [
    "import argparse\n",
    "\n",
    "def grader_test_gcd():\n",
    "    data = list()\n",
    "    with open('data.csv', 'r') as f:\n",
    "        for line in f.readlines():\n",
    "            data.append([int(x.strip()) for x in line.split(',')])\n",
    "    for line in data:\n",
    "        a, b = line[0], line[1]\n",
    "        print(gcd(a, b))\n",
    "\n",
    "def main():\n",
    "    # set description\n",
    "    parser = argparse.ArgumentParser(description=\"Getting Started\")\n",
    "    parser.add_argument(\"-r\",\n",
    "                        metavar='<question_id>',\n",
    "                        required=False)\n",
    "    args = parser.parse_args()\n",
    "    question = args.r\n",
    "\n",
    "    if question is None:\n",
    "        grader_test_gcd()\n",
    "    elif question == \"q1\":\n",
    "        grader_test_gcd()\n",
    "    else:\n",
    "        print(\"Invalid args\")\n",
    "\n",
    "if __name__ == \"__main__\":\n",
    "    main()"
   ]
  }
 ],
 "metadata": {
  "celltoolbar": "Tags",
  "kernelspec": {
   "display_name": "Python 3",
   "language": "python",
   "name": "python3"
  },
  "language_info": {
   "codemirror_mode": {
    "name": "ipython",
    "version": 3
   },
   "file_extension": ".py",
   "mimetype": "text/x-python",
   "name": "python",
   "nbconvert_exporter": "python",
   "pygments_lexer": "ipython3",
   "version": "3.7.6"
  }
 },
 "nbformat": 4,
 "nbformat_minor": 4
}